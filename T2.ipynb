{
  "nbformat": 4,
  "nbformat_minor": 0,
  "metadata": {
    "colab": {
      "provenance": []
    },
    "kernelspec": {
      "name": "python3",
      "display_name": "Python 3"
    },
    "language_info": {
      "name": "python"
    }
  },
  "cells": [
    {
      "cell_type": "code",
      "execution_count": 1,
      "metadata": {
        "colab": {
          "base_uri": "https://localhost:8080/"
        },
        "id": "3rhV89QgBADQ",
        "outputId": "ef682bc6-6d97-41d0-ef10-166e7a7f1819"
      },
      "outputs": [
        {
          "output_type": "stream",
          "name": "stdout",
          "text": [
            "Mounted at /content/drive\n"
          ]
        }
      ],
      "source": [
        "from google.colab import drive\n",
        "drive.mount('/content/drive')"
      ]
    },
    {
      "cell_type": "code",
      "source": [
        "import cv2\n",
        "import numpy as np\n",
        "import matplotlib.pyplot as plt\n",
        "import os\n",
        "import pandas as pd\n",
        "\n",
        "# Folder containing images\n",
        "image_folder = \"/content/drive/My Drive/Bubble/image/\"  # Update with your path\n",
        "\n",
        "# Define size threshold\n",
        "min_bubble_area = 300  # Adjust this based on image resolution\n",
        "max_bubble_area = 1000000  # Avoid detecting large unwanted regions\n",
        "\n",
        "# Initialize results list\n",
        "results = []\n",
        "\n",
        "# Get list of all JPEG images\n",
        "image_files = [f for f in os.listdir(image_folder) if f.lower().endswith(('.jpg', '.jpeg'))]\n",
        "\n",
        "for image_name in image_files:\n",
        "    image_path = os.path.join(image_folder, image_name)\n",
        "    image = cv2.imread(image_path)\n",
        "\n",
        "    if image is None:\n",
        "        print(f\"Error loading {image_name}\")\n",
        "        continue\n",
        "\n",
        "    # Convert to grayscale, apply Gaussian blur and threshold\n",
        "    gray = cv2.cvtColor(image, cv2.COLOR_BGR2GRAY)\n",
        "    blur = cv2.GaussianBlur(gray, (11, 5), 0)\n",
        "    thresh = cv2.threshold(blur, 0, 255, cv2.THRESH_BINARY + cv2.THRESH_OTSU)[1]\n",
        "\n",
        "    # Morphological transformation\n",
        "    kernel = cv2.getStructuringElement(cv2.MORPH_RECT, (3, 3))\n",
        "    opening = cv2.morphologyEx(thresh, cv2.MORPH_OPEN, kernel)\n",
        "\n",
        "    # Find contours\n",
        "    cnts, _ = cv2.findContours(opening, cv2.RETR_TREE, cv2.CHAIN_APPROX_SIMPLE)\n",
        "\n",
        "    bubble_count = 0\n",
        "    areas = []\n",
        "    circularities = []\n",
        "\n",
        "    for c in cnts:\n",
        "        area = cv2.contourArea(c)\n",
        "        perimeter = cv2.arcLength(c, True)\n",
        "\n",
        "        if perimeter == 0 or area < min_bubble_area or area > max_bubble_area:\n",
        "            continue  # Skip small or large non-bubble objects\n",
        "\n",
        "        circularity = 4 * np.pi * (area / (perimeter ** 2))\n",
        "        x, y, w, h = cv2.boundingRect(c)\n",
        "        aspect_ratio = w / float(h)\n",
        "\n",
        "        # Filter bubbles based on circularity, aspect ratio, and area\n",
        "        if 0.75 < circularity <= 1.1 and 0.85 <= aspect_ratio <= 1.15:\n",
        "            bubble_count += 1\n",
        "            areas.append(area)\n",
        "            circularities.append(circularity)\n",
        "\n",
        "    # Compute statistics\n",
        "    median_area = np.median(areas) if areas else 0\n",
        "    avg_area = np.mean(areas) if areas else 0\n",
        "    min_area = min(areas) if areas else 0\n",
        "    max_area = max(areas) if areas else 0\n",
        "    range_area = max_area - min_area if areas else 0\n",
        "    std_dev_area = np.std(areas) if areas else 0\n",
        "    avg_circularity = np.mean(circularities) if circularities else 0\n",
        "\n",
        "    results.append({\n",
        "        \"Image Name\": image_name,\n",
        "        \"Total Bubbles\": bubble_count,\n",
        "        \"Median Area\": median_area,\n",
        "        \"Avg Area\": avg_area,\n",
        "        \"Min Area\": min_area,\n",
        "        \"Max Area\": max_area,\n",
        "        \"Area Range\": range_area,\n",
        "        \"Std Dev Area\": std_dev_area,\n",
        "        \"Avg Circularity\": avg_circularity\n",
        "    })\n",
        "\n",
        "# Convert to DataFrame and save results\n",
        "df_results = pd.DataFrame(results)\n",
        "df_results.to_csv(\"/content/drive/My Drive/Bubble/image/bubble_statistics.csv\", index=False)\n",
        "\n",
        "# Print results\n",
        "print(df_results)\n"
      ],
      "metadata": {
        "colab": {
          "base_uri": "https://localhost:8080/"
        },
        "id": "xg3Vow-pBK_p",
        "outputId": "4bc7d8a6-4852-4d39-8bd2-32f45859eca8"
      },
      "execution_count": 2,
      "outputs": [
        {
          "output_type": "stream",
          "name": "stdout",
          "text": [
            "                                      Image Name  Total Bubbles  Median Area  \\\n",
            "0       Foto el 15-07-24 a la(s) 4.01 p. m..jpeg             24      8554.00   \n",
            "1       Foto el 23-07-24 a la(s) 2.39 p. m..jpeg             16       698.00   \n",
            "2    Foto el 23-07-24 a la(s) 2.39 p. m. #2.jpeg             12       590.75   \n",
            "3       Foto el 23-07-24 a la(s) 2.41 p. m..jpeg              3      1205.00   \n",
            "4    Foto el 23-07-24 a la(s) 2.41 p. m. #2.jpeg             11       778.00   \n",
            "..                                           ...            ...          ...   \n",
            "228     Foto el 20-02-25 a la(s) 7.14 p. m..jpeg            168      2191.00   \n",
            "229  Foto el 20-02-25 a la(s) 7.14 p. m. #2.jpeg            129      3160.00   \n",
            "230  Foto el 20-02-25 a la(s) 7.14 p. m. #3.jpeg            165      1682.50   \n",
            "231  Foto el 20-02-25 a la(s) 7.14 p. m. #4.jpeg            114      4167.25   \n",
            "232  Foto el 20-02-25 a la(s) 7.14 p. m. #5.jpeg             77      3891.50   \n",
            "\n",
            "         Avg Area  Min Area  Max Area  Area Range  Std Dev Area  \\\n",
            "0    21821.000000    2113.0  233432.0    231319.0  45217.044013   \n",
            "1     8402.687500     300.5   58383.5     58083.0  17053.577655   \n",
            "2     4595.750000     335.5   48237.0     47901.5  13160.102236   \n",
            "3      993.500000     497.5    1278.0       780.5    351.988873   \n",
            "4     1343.181818     312.0    3627.0      3315.0   1093.856902   \n",
            "..            ...       ...       ...         ...           ...   \n",
            "228   5088.875000     335.0   93893.0     93558.0  10287.494597   \n",
            "229   7340.841085     348.5   68426.0     68077.5  10869.979418   \n",
            "230   4677.921212     353.5  159693.0    159339.5  15419.158776   \n",
            "231   7834.206140     529.0   50130.5     49601.5  10498.198192   \n",
            "232  16988.805195     442.0  508232.0    507790.0  58808.594630   \n",
            "\n",
            "     Avg Circularity  \n",
            "0           0.854149  \n",
            "1           0.805706  \n",
            "2           0.820218  \n",
            "3           0.816465  \n",
            "4           0.819944  \n",
            "..               ...  \n",
            "228         0.890160  \n",
            "229         0.890551  \n",
            "230         0.894143  \n",
            "231         0.891917  \n",
            "232         0.894716  \n",
            "\n",
            "[233 rows x 9 columns]\n"
          ]
        }
      ]
    }
  ]
}